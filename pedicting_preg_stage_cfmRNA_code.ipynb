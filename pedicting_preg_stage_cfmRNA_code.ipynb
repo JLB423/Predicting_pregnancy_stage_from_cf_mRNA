{
 "cells": [
  {
   "cell_type": "markdown",
   "metadata": {},
   "source": [
    "## Predicting Pregnancy Stage from Cell free mRNA Levels\n",
    "### Supplementary document: Python code -\n",
    "Jessie Bologna & Lindsay Reisman  \n",
    "NYU Bioinformatic - Machine Learning   \n",
    "5/15/21\n",
    "\n",
    "***\n"
   ]
  },
  {
   "cell_type": "markdown",
   "metadata": {},
   "source": [
    "## Load the libraries"
   ]
  },
  {
   "cell_type": "code",
   "execution_count": 5,
   "metadata": {},
   "outputs": [],
   "source": [
    "import pandas as pd\n",
    "import numpy as np\n",
    "from sklearn.metrics import accuracy_score\n",
    "import matplotlib.pyplot as plt\n",
    "%matplotlib inline\n",
    "import seaborn as sns\n",
    "import warnings\n",
    "import scipy.stats as stats\n",
    "from sklearn.preprocessing import MinMaxScaler\n",
    "from sklearn import svm\n",
    "from sklearn.svm import SVC\n",
    "from sklearn.linear_model import LogisticRegression\n",
    "from sklearn import metrics\n",
    "from sklearn.model_selection import ShuffleSplit\n",
    "from sklearn.preprocessing import scale\n",
    "from sklearn.model_selection import cross_val_score\n",
    "from sklearn.metrics import classification_report\n",
    "from sklearn.metrics import accuracy_score\n",
    "from sklearn.svm import SVC\n",
    "from sklearn.neighbors import KNeighborsClassifier\n",
    "from sklearn.naive_bayes import GaussianNB\n",
    "from sklearn.tree import DecisionTreeClassifier\n",
    "from sklearn.discriminant_analysis import LinearDiscriminantAnalysis\n",
    "from sklearn import model_selection\n",
    "from sklearn.metrics import accuracy_score, plot_confusion_matrix\n",
    "from sklearn.linear_model import LinearRegression\n",
    "from sklearn.neural_network import MLPClassifier"
   ]
  },
  {
   "cell_type": "code",
   "execution_count": 6,
   "metadata": {},
   "outputs": [],
   "source": [
    "# Ignore unimportant warnings\n",
    "def fxn():\n",
    "    warnings.warn(\"deprecated\", DeprecationWarning)\n",
    "warnings.filterwarnings(\"ignore\")\n",
    "with warnings.catch_warnings():\n",
    "    warnings.simplefilter(\"ignore\")\n",
    "    fxn()"
   ]
  },
  {
   "cell_type": "markdown",
   "metadata": {},
   "source": [
    "### Import the Data\n",
    "The data consists of 48 samples (12 patients) over the course of 5 stages of pregnancy: first, second, and third trimester, postpartem, and control/non-pregnant\n",
    "\n",
    "Microarray data of cell free RNA was collected across 33,297 genes for each patient during each of these time courses\n",
    "    "
   ]
  },
  {
   "cell_type": "code",
   "execution_count": 36,
   "metadata": {},
   "outputs": [],
   "source": [
    "# import the data\n",
    "df = pd.read_csv('GSE56899_series_matrix.txt',sep = '\\t')\n",
    "# define the column names\n",
    "columns = ['ID_REF','pt1_t1', 'pt1_t2', 'pt1_t3', 'pt1_pp', 'pt2_t1', 'pt2_t2', 'pt2_t3', 'pt2_pp', 'pt3_t1', 'pt3_t2','pt3_t3', 'pt3_pp', 'pt4_t1', 'pt4_t2', 'pt4_t3', 'pt4_pp', 'pt5_t1', 'pt5_t2', 'pt5_t3', 'pt5_pp', 'pt6_t1','pt6_t2', 'pt6_t3', 'pt6_pp', 'pt7_t1', 'pt7_t2', 'pt7_t3', 'pt7_pp', 'pt8_t1', 'pt8_t2', 'pt8_t3', 'pt8_pp', 'pt9_t1', 'pt9_t2', 'pt9_t3', 'pt9_pp', 'pt10_t1', 'pt10_t2', 'pt10_t3', 'pt10_pp', 'pt11_t1', 'pt11_t2', \n",
    "           'pt11_t3', 'pt11_pp', 'pt12_control', 'pt12_control', 'pt12_control', 'pt12_control']\n",
    "\n",
    "# set the column names\n",
    "df.columns = columns\n",
    "\n",
    "# set the index column\n",
    "df.set_index('ID_REF', inplace = True)"
   ]
  },
  {
   "cell_type": "markdown",
   "metadata": {},
   "source": [
    "### Data Prepocessing \n",
    "We started with the standard data preprocessing steps; removing any missing values in the data, and transposing the dataset to be the proper shape needed for running our models"
   ]
  },
  {
   "cell_type": "code",
   "execution_count": 37,
   "metadata": {
    "scrolled": true
   },
   "outputs": [
    {
     "data": {
      "text/html": [
       "<div>\n",
       "<style scoped>\n",
       "    .dataframe tbody tr th:only-of-type {\n",
       "        vertical-align: middle;\n",
       "    }\n",
       "\n",
       "    .dataframe tbody tr th {\n",
       "        vertical-align: top;\n",
       "    }\n",
       "\n",
       "    .dataframe thead th {\n",
       "        text-align: right;\n",
       "    }\n",
       "</style>\n",
       "<table border=\"1\" class=\"dataframe\">\n",
       "  <thead>\n",
       "    <tr style=\"text-align: right;\">\n",
       "      <th>ID_REF</th>\n",
       "      <th>7892501</th>\n",
       "      <th>7892502</th>\n",
       "      <th>7892503</th>\n",
       "      <th>7892504</th>\n",
       "      <th>7892505</th>\n",
       "      <th>7892506</th>\n",
       "      <th>7892507</th>\n",
       "      <th>7892508</th>\n",
       "      <th>7892509</th>\n",
       "      <th>7892510</th>\n",
       "      <th>...</th>\n",
       "      <th>8180409</th>\n",
       "      <th>8180410</th>\n",
       "      <th>8180411</th>\n",
       "      <th>8180412</th>\n",
       "      <th>8180413</th>\n",
       "      <th>8180414</th>\n",
       "      <th>8180415</th>\n",
       "      <th>8180416</th>\n",
       "      <th>8180417</th>\n",
       "      <th>8180418</th>\n",
       "    </tr>\n",
       "  </thead>\n",
       "  <tbody>\n",
       "    <tr>\n",
       "      <th>count</th>\n",
       "      <td>48.000000</td>\n",
       "      <td>48.000000</td>\n",
       "      <td>48.000000</td>\n",
       "      <td>48.000000</td>\n",
       "      <td>48.000000</td>\n",
       "      <td>48.000000</td>\n",
       "      <td>48.000000</td>\n",
       "      <td>48.000000</td>\n",
       "      <td>48.000000</td>\n",
       "      <td>48.000000</td>\n",
       "      <td>...</td>\n",
       "      <td>48.000000</td>\n",
       "      <td>48.000000</td>\n",
       "      <td>48.000000</td>\n",
       "      <td>48.000000</td>\n",
       "      <td>48.000000</td>\n",
       "      <td>48.000000</td>\n",
       "      <td>48.000000</td>\n",
       "      <td>48.000000</td>\n",
       "      <td>48.000000</td>\n",
       "      <td>48.000000</td>\n",
       "    </tr>\n",
       "    <tr>\n",
       "      <th>mean</th>\n",
       "      <td>5.004943</td>\n",
       "      <td>2.482006</td>\n",
       "      <td>2.561178</td>\n",
       "      <td>7.310324</td>\n",
       "      <td>2.787235</td>\n",
       "      <td>2.605373</td>\n",
       "      <td>3.165746</td>\n",
       "      <td>2.243372</td>\n",
       "      <td>10.500638</td>\n",
       "      <td>2.562259</td>\n",
       "      <td>...</td>\n",
       "      <td>11.946849</td>\n",
       "      <td>10.312863</td>\n",
       "      <td>8.729550</td>\n",
       "      <td>5.606498</td>\n",
       "      <td>5.531304</td>\n",
       "      <td>4.500168</td>\n",
       "      <td>3.566437</td>\n",
       "      <td>4.229723</td>\n",
       "      <td>4.713113</td>\n",
       "      <td>6.958093</td>\n",
       "    </tr>\n",
       "    <tr>\n",
       "      <th>std</th>\n",
       "      <td>1.853566</td>\n",
       "      <td>0.287033</td>\n",
       "      <td>0.247941</td>\n",
       "      <td>1.055773</td>\n",
       "      <td>0.425361</td>\n",
       "      <td>0.404084</td>\n",
       "      <td>0.727252</td>\n",
       "      <td>0.186912</td>\n",
       "      <td>1.742822</td>\n",
       "      <td>0.266118</td>\n",
       "      <td>...</td>\n",
       "      <td>0.645432</td>\n",
       "      <td>0.727021</td>\n",
       "      <td>1.149331</td>\n",
       "      <td>0.544848</td>\n",
       "      <td>0.473045</td>\n",
       "      <td>0.321836</td>\n",
       "      <td>0.645544</td>\n",
       "      <td>0.336192</td>\n",
       "      <td>0.687966</td>\n",
       "      <td>0.878578</td>\n",
       "    </tr>\n",
       "    <tr>\n",
       "      <th>min</th>\n",
       "      <td>2.089713</td>\n",
       "      <td>1.938133</td>\n",
       "      <td>1.982890</td>\n",
       "      <td>5.428908</td>\n",
       "      <td>2.102378</td>\n",
       "      <td>2.122335</td>\n",
       "      <td>2.367414</td>\n",
       "      <td>1.923975</td>\n",
       "      <td>2.718209</td>\n",
       "      <td>2.022346</td>\n",
       "      <td>...</td>\n",
       "      <td>7.643652</td>\n",
       "      <td>6.219645</td>\n",
       "      <td>5.253879</td>\n",
       "      <td>4.610632</td>\n",
       "      <td>4.704429</td>\n",
       "      <td>3.969056</td>\n",
       "      <td>2.945505</td>\n",
       "      <td>3.754242</td>\n",
       "      <td>3.432273</td>\n",
       "      <td>4.973555</td>\n",
       "    </tr>\n",
       "    <tr>\n",
       "      <th>25%</th>\n",
       "      <td>3.286410</td>\n",
       "      <td>2.287814</td>\n",
       "      <td>2.390578</td>\n",
       "      <td>6.533863</td>\n",
       "      <td>2.540726</td>\n",
       "      <td>2.351941</td>\n",
       "      <td>2.791254</td>\n",
       "      <td>2.106138</td>\n",
       "      <td>10.338530</td>\n",
       "      <td>2.390800</td>\n",
       "      <td>...</td>\n",
       "      <td>11.976620</td>\n",
       "      <td>10.136710</td>\n",
       "      <td>8.073634</td>\n",
       "      <td>5.227595</td>\n",
       "      <td>5.220778</td>\n",
       "      <td>4.282611</td>\n",
       "      <td>3.160338</td>\n",
       "      <td>3.967621</td>\n",
       "      <td>4.256973</td>\n",
       "      <td>6.438553</td>\n",
       "    </tr>\n",
       "    <tr>\n",
       "      <th>50%</th>\n",
       "      <td>5.519676</td>\n",
       "      <td>2.446147</td>\n",
       "      <td>2.514482</td>\n",
       "      <td>7.021481</td>\n",
       "      <td>2.696597</td>\n",
       "      <td>2.464081</td>\n",
       "      <td>2.975391</td>\n",
       "      <td>2.231955</td>\n",
       "      <td>10.952625</td>\n",
       "      <td>2.561447</td>\n",
       "      <td>...</td>\n",
       "      <td>12.035485</td>\n",
       "      <td>10.439085</td>\n",
       "      <td>9.131304</td>\n",
       "      <td>5.492380</td>\n",
       "      <td>5.427062</td>\n",
       "      <td>4.443596</td>\n",
       "      <td>3.319454</td>\n",
       "      <td>4.091791</td>\n",
       "      <td>4.534680</td>\n",
       "      <td>6.922974</td>\n",
       "    </tr>\n",
       "    <tr>\n",
       "      <th>75%</th>\n",
       "      <td>6.390771</td>\n",
       "      <td>2.619133</td>\n",
       "      <td>2.759148</td>\n",
       "      <td>8.047929</td>\n",
       "      <td>2.965962</td>\n",
       "      <td>2.745546</td>\n",
       "      <td>3.281732</td>\n",
       "      <td>2.346940</td>\n",
       "      <td>11.409250</td>\n",
       "      <td>2.682029</td>\n",
       "      <td>...</td>\n",
       "      <td>12.119032</td>\n",
       "      <td>10.698903</td>\n",
       "      <td>9.442569</td>\n",
       "      <td>5.912264</td>\n",
       "      <td>5.854077</td>\n",
       "      <td>4.690992</td>\n",
       "      <td>3.733180</td>\n",
       "      <td>4.510201</td>\n",
       "      <td>5.113005</td>\n",
       "      <td>7.541776</td>\n",
       "    </tr>\n",
       "    <tr>\n",
       "      <th>max</th>\n",
       "      <td>9.105850</td>\n",
       "      <td>3.351691</td>\n",
       "      <td>3.142344</td>\n",
       "      <td>10.706420</td>\n",
       "      <td>4.643989</td>\n",
       "      <td>4.226218</td>\n",
       "      <td>7.068907</td>\n",
       "      <td>2.800776</td>\n",
       "      <td>11.993470</td>\n",
       "      <td>3.234456</td>\n",
       "      <td>...</td>\n",
       "      <td>12.279910</td>\n",
       "      <td>11.043520</td>\n",
       "      <td>10.496080</td>\n",
       "      <td>7.584900</td>\n",
       "      <td>7.138811</td>\n",
       "      <td>5.619216</td>\n",
       "      <td>5.492873</td>\n",
       "      <td>5.360121</td>\n",
       "      <td>6.714379</td>\n",
       "      <td>8.863344</td>\n",
       "    </tr>\n",
       "  </tbody>\n",
       "</table>\n",
       "<p>8 rows × 33297 columns</p>\n",
       "</div>"
      ],
      "text/plain": [
       "ID_REF    7892501    7892502    7892503    7892504    7892505    7892506  \\\n",
       "count   48.000000  48.000000  48.000000  48.000000  48.000000  48.000000   \n",
       "mean     5.004943   2.482006   2.561178   7.310324   2.787235   2.605373   \n",
       "std      1.853566   0.287033   0.247941   1.055773   0.425361   0.404084   \n",
       "min      2.089713   1.938133   1.982890   5.428908   2.102378   2.122335   \n",
       "25%      3.286410   2.287814   2.390578   6.533863   2.540726   2.351941   \n",
       "50%      5.519676   2.446147   2.514482   7.021481   2.696597   2.464081   \n",
       "75%      6.390771   2.619133   2.759148   8.047929   2.965962   2.745546   \n",
       "max      9.105850   3.351691   3.142344  10.706420   4.643989   4.226218   \n",
       "\n",
       "ID_REF    7892507    7892508    7892509    7892510  ...    8180409    8180410  \\\n",
       "count   48.000000  48.000000  48.000000  48.000000  ...  48.000000  48.000000   \n",
       "mean     3.165746   2.243372  10.500638   2.562259  ...  11.946849  10.312863   \n",
       "std      0.727252   0.186912   1.742822   0.266118  ...   0.645432   0.727021   \n",
       "min      2.367414   1.923975   2.718209   2.022346  ...   7.643652   6.219645   \n",
       "25%      2.791254   2.106138  10.338530   2.390800  ...  11.976620  10.136710   \n",
       "50%      2.975391   2.231955  10.952625   2.561447  ...  12.035485  10.439085   \n",
       "75%      3.281732   2.346940  11.409250   2.682029  ...  12.119032  10.698903   \n",
       "max      7.068907   2.800776  11.993470   3.234456  ...  12.279910  11.043520   \n",
       "\n",
       "ID_REF    8180411    8180412    8180413    8180414    8180415    8180416  \\\n",
       "count   48.000000  48.000000  48.000000  48.000000  48.000000  48.000000   \n",
       "mean     8.729550   5.606498   5.531304   4.500168   3.566437   4.229723   \n",
       "std      1.149331   0.544848   0.473045   0.321836   0.645544   0.336192   \n",
       "min      5.253879   4.610632   4.704429   3.969056   2.945505   3.754242   \n",
       "25%      8.073634   5.227595   5.220778   4.282611   3.160338   3.967621   \n",
       "50%      9.131304   5.492380   5.427062   4.443596   3.319454   4.091791   \n",
       "75%      9.442569   5.912264   5.854077   4.690992   3.733180   4.510201   \n",
       "max     10.496080   7.584900   7.138811   5.619216   5.492873   5.360121   \n",
       "\n",
       "ID_REF    8180417    8180418  \n",
       "count   48.000000  48.000000  \n",
       "mean     4.713113   6.958093  \n",
       "std      0.687966   0.878578  \n",
       "min      3.432273   4.973555  \n",
       "25%      4.256973   6.438553  \n",
       "50%      4.534680   6.922974  \n",
       "75%      5.113005   7.541776  \n",
       "max      6.714379   8.863344  \n",
       "\n",
       "[8 rows x 33297 columns]"
      ]
     },
     "execution_count": 37,
     "metadata": {},
     "output_type": "execute_result"
    }
   ],
   "source": [
    "# remove any missing values\n",
    "df.dropna(inplace=True)\n",
    "# transpose the dataframe \n",
    "df_t = df.transpose()\n",
    "df_t.describe()"
   ]
  },
  {
   "cell_type": "markdown",
   "metadata": {},
   "source": [
    "### Normalize the data across samples - \n",
    "\n",
    "In order to be able to compare our samples against each other we needed to normalize the data or account for any outliers. Here we used Log2 to normalize the data. \n",
    "\n"
   ]
  },
  {
   "cell_type": "code",
   "execution_count": 38,
   "metadata": {},
   "outputs": [],
   "source": [
    "# normalize across the data to see how the samples compare to each other (look for outliers etc)\n",
    "df_t = df_t.applymap(np.log2)"
   ]
  },
  {
   "cell_type": "code",
   "execution_count": 39,
   "metadata": {},
   "outputs": [
    {
     "name": "stdout",
     "output_type": "stream",
     "text": [
      "(48, 33297)\n",
      "(48,)\n"
     ]
    }
   ],
   "source": [
    "# Add our class/target column - trimester 1, trimester 2, trimester 3, post-partem, and non-preg/ control\n",
    "y = [1, 2, 3, 4] * 11    \n",
    "y1 = [0, 0, 0, 0]    \n",
    "y = y + y1\n",
    "\n",
    "# add our classes/ taget col to the df_t dataframe\n",
    "df_t['y'] = y\n",
    "y = df_t['y'].values\n",
    "\n",
    "# get our X and y values\n",
    "X_labels = df_t.columns[0:33297]\n",
    "X = np.array(df_t[X_labels].values)\n",
    "print(X.shape)\n",
    "print(y.shape)"
   ]
  },
  {
   "cell_type": "code",
   "execution_count": 40,
   "metadata": {},
   "outputs": [],
   "source": [
    "# get the totals by row\n",
    "df_t['totals'] = df_t.sum(axis=1)"
   ]
  },
  {
   "cell_type": "code",
   "execution_count": 41,
   "metadata": {},
   "outputs": [
    {
     "data": {
      "image/png": "[encoded data removed]",
      "text/plain": [
       "<Figure size 720x288 with 1 Axes>"
      ]
     },
     "metadata": {},
     "output_type": "display_data"
    }
   ],
   "source": [
    "# Plot the normalized differences between samples\n",
    "plt.figure(figsize=(10,4))\n",
    "sns.set_theme(style = 'whitegrid')\n",
    "sns.barplot(x=df_t.index, y='totals', hue = 'y', data=df_t,\n",
    "            edgecolor='1', ci = 'sd', linewidth= .1)\n",
    "plt.xlabel='samples'\n",
    "plt.ylabel='total expression'\n",
    "plt.title('Total Normalized Expression across samples', fontsize='14')\n",
    "plt.xticks(rotation=55, ha='right')\n",
    "plt.legend(title = 'Classes', bbox_to_anchor = (1, 1))\n",
    "plt.show()"
   ]
  },
  {
   "cell_type": "code",
   "execution_count": 42,
   "metadata": {},
   "outputs": [
    {
     "data": {
      "image/png": "[encoded data removed]",
      "text/plain": [
       "<Figure size 432x432 with 1 Axes>"
      ]
     },
     "metadata": {},
     "output_type": "display_data"
    }
   ],
   "source": [
    "# see our class distribution  \n",
    "colors = ['lightpink','magenta', 'mistyrose', 'purple', 'hotpink']\n",
    "plt.figure(figsize = (6,6))\n",
    "classes = (df_t[df_t.y != -1])['y'].value_counts()\n",
    "classes.plot.pie(colors = colors, shadow = True, startangle = 10, \n",
    "                 title = 'Class Distribution \\n 0: non pregnant 1: first trimester \\n 2: second trimester, 3: thrid trimester, 4: post partum', fontsize = 16)\n",
    "plt.legend()\n",
    "plt.show()"
   ]
  },
  {
   "cell_type": "markdown",
   "metadata": {},
   "source": [
    "### Further data processing\n",
    "After reviewing the data in more detail, we were able to determine that additional preprocessing was need. \n",
    "\n",
    "We decided to select the genes with the highest variability between samples and/or between time periods of the same sample in order to make any meaningful analysis. We noted that the highest variablity between the classes were between the third trimester and post-partem. \n",
    "\n",
    "Next, we seperated the data by patient, and then caclculated the differential expression values for each patient from the thirs trimester and post-partem. Note; we eliminated the control patient 12 from our study at this point. "
   ]
  },
  {
   "cell_type": "code",
   "execution_count": 43,
   "metadata": {},
   "outputs": [],
   "source": [
    "# seperate out info for each patient \n",
    "pt1 = df_t[:4]\n",
    "pt2 = df_t[4:8]\n",
    "pt3 = df_t[8:12]\n",
    "pt4 = df_t[12:16]\n",
    "pt5 = df_t[16:20]\n",
    "pt6 = df_t[20:24]\n",
    "pt7 = df_t[24:28]\n",
    "pt8 = df_t[28:32]\n",
    "pt9 = df_t[32:36]\n",
    "pt10 = df_t[36:40]\n",
    "pt11 = df_t[40:44]\n",
    "#pt12 = X[44:48] # non-pregnant/control samples"
   ]
  },
  {
   "cell_type": "code",
   "execution_count": 44,
   "metadata": {},
   "outputs": [],
   "source": [
    "# differential expressions between for each pt - from trimester 3 and postpartum\n",
    "pt1.loc['1'] = pt1.loc['pt1_t3']-pt1.loc['pt1_pp']\n",
    "pt2.loc['2'] = pt2.loc['pt2_t3']-pt2.loc['pt2_pp']\n",
    "pt3.loc['3'] = pt3.loc['pt3_t3']-pt3.loc['pt3_pp']\n",
    "pt4.loc['4'] = pt4.loc['pt4_t3']- pt4.loc['pt4_pp']\n",
    "pt5.loc['5'] = pt5.loc['pt5_t3']-pt5.loc['pt5_pp']\n",
    "pt6.loc['6'] = pt6.loc['pt6_t3']-pt6.loc['pt6_pp']\n",
    "pt7.loc['7'] = pt7.loc['pt7_t3']-pt7.loc['pt7_pp']\n",
    "pt8.loc['8'] = pt8.loc['pt8_t3']-pt8.loc['pt8_pp']\n",
    "pt9.loc['9'] = pt9.loc['pt9_t3']-pt9.loc['pt9_pp']\n",
    "pt10.loc['10'] = pt10.loc['pt10_t3']-pt10.loc['pt10_pp']\n",
    "pt11.loc['11'] = pt11.loc['pt11_t3']-pt11.loc['pt11_pp']"
   ]
  },
  {
   "cell_type": "code",
   "execution_count": 45,
   "metadata": {},
   "outputs": [],
   "source": [
    "#filter out the differential expression\n",
    "p1 = pt1.filter(['1'], axis=0)\n",
    "p2 = pt2.filter(['2'], axis=0)\n",
    "p3 = pt3.filter(['3'], axis=0)\n",
    "p4 = pt4.filter(['4'], axis=0)\n",
    "p5 = pt5.filter(['5'], axis=0)\n",
    "p6 = pt6.filter(['6'], axis=0)\n",
    "p7 = pt7.filter(['7'], axis=0)\n",
    "p8 = pt8.filter(['8'], axis=0)\n",
    "p9 = pt9.filter(['9'], axis=0)\n",
    "p10 = pt10.filter(['10'], axis=0)\n",
    "p11 = pt11.filter(['11'], axis=0)"
   ]
  },
  {
   "cell_type": "code",
   "execution_count": 46,
   "metadata": {},
   "outputs": [],
   "source": [
    "#combine dataframes back together\n",
    "frames = [p1,p2,p3,p4,p5,p6,p7,p8,p9,p10,p11]\n",
    "de = pd.concat(frames)\n",
    "\n",
    "#remove 'y' from the dataframe\n",
    "de = de.drop('y', axis = 1)"
   ]
  },
  {
   "cell_type": "markdown",
   "metadata": {},
   "source": [
    "### Determine genes with highest differential expression between the two classes -\n",
    "\n",
    "Our dataset contains over 30,000 genes, this makes predictions challenging. In order to reduce the number of genes in our dataset we decided to focus on just the top 30 genes with the highest differential expression between the thrid trimester and post-partem samples for each patient."
   ]
  },
  {
   "cell_type": "code",
   "execution_count": 47,
   "metadata": {},
   "outputs": [
    {
     "name": "stdout",
     "output_type": "stream",
     "text": [
      "Index(['totals',  8128001,  8070458,  8017488,  7951662,  7951246,  8180304,\n",
      "        7893349,  8084206,  7918694,  8019842,  8180400,  8167693,  8172749,\n",
      "        8037251],\n",
      "      dtype='object', name='ID_REF')\n",
      "Index([8174251, 7894627, 8021147, 7895904, 7945040, 7943160, 7930870, 7896069,\n",
      "       7896704, 8088911, 8035793, 7896123, 7893549, 8020806, 7896558],\n",
      "      dtype='object', name='ID_REF')\n"
     ]
    }
   ],
   "source": [
    "# remove any missing values\n",
    "de.dropna(inplace=True)\n",
    "\n",
    "df_4 = de.sum()\n",
    "print(df_4.nlargest(15).index)\n",
    "\n",
    "df_5 = de.sum()\n",
    "print(df_4.nsmallest(15).index)"
   ]
  },
  {
   "cell_type": "markdown",
   "metadata": {},
   "source": [
    "### Data Visualization\n",
    "Lets see how the top genes are expressed across the samples"
   ]
  },
  {
   "cell_type": "code",
   "execution_count": 48,
   "metadata": {},
   "outputs": [
    {
     "data": {
      "image/png": "[encoded data removed]",
      "text/plain": [
       "<Figure size 1008x432 with 1 Axes>"
      ]
     },
     "metadata": {},
     "output_type": "display_data"
    }
   ],
   "source": [
    "#sorting for all normalized highest and lowest DE genes\n",
    "df_top_genes = de[[8128001, 8070458, 8017488, 7951662, 7951246, 8180304, 7893349, 8084206,\n",
    "       7918694, 8019842, 8180400, 8167693, 8172749, 8037251, 8060734]]\n",
    "df_top_genes = df_top_genes.assign(pt = ['1', '2', '3', '4','5','6','7','8','9','10','11'])\n",
    "#plot boxplot for each gene\n",
    "import seaborn as sns\n",
    "fig = plt.figure(figsize =(14, 6))\n",
    "plt.title('Top Up-regulated Differentially Expressed Gene Across all Patients', fontsize=(14))\n",
    "boxplot = df_top_genes.boxplot()"
   ]
  },
  {
   "cell_type": "code",
   "execution_count": 49,
   "metadata": {},
   "outputs": [
    {
     "data": {
      "image/png": "[encoded data removed]",
      "text/plain": [
       "<Figure size 1008x432 with 1 Axes>"
      ]
     },
     "metadata": {},
     "output_type": "display_data"
    }
   ],
   "source": [
    "#sorting for all normalized highest expression genes\n",
    "df_top_genes2 = de[[8174251, 7894627, 8021147, 7895904, 7945040, 7943160, 7930870, 7896069,\n",
    "       7896704, 8088911, 8035793, 7896123, 7893549, 8020806, 7896558]]\n",
    "df_top_genes2 = df_top_genes2.assign(pt = ['1', '2', '3', '4','5','6','7','8','9','10','11'])\n",
    "#plot boxplot for each gene\n",
    "import seaborn as sns\n",
    "fig = plt.figure(figsize =(14, 6))\n",
    "plt.title('Top down-Regulated Differentially Expressed Gene Across all Patients')\n",
    "boxplot = df_top_genes2.boxplot()"
   ]
  },
  {
   "cell_type": "code",
   "execution_count": 50,
   "metadata": {},
   "outputs": [],
   "source": [
    "# sort the dataframe by y\n",
    "sorted_df = df_t.sort_values(by=['y'], ascending=False)\n",
    "\n",
    "# break down the data by time interval\n",
    "pp = sorted_df[:11]\n",
    "tri3 = sorted_df[11:22]\n",
    "tri2 = sorted_df[22:33]\n",
    "tri1 = sorted_df[33:44]\n",
    "control = sorted_df[44:48]"
   ]
  },
  {
   "cell_type": "code",
   "execution_count": 51,
   "metadata": {},
   "outputs": [
    {
     "data": {
      "image/png": "[encoded data removed]",
      "text/plain": [
       "<Figure size 792x288 with 1 Axes>"
      ]
     },
     "metadata": {},
     "output_type": "display_data"
    }
   ],
   "source": [
    "gene1 = df_t[8128001]  \n",
    "plt.figure(figsize = (11,4))\n",
    "plt.hist(gene1.values, bins=15, color='lightblue', alpha=0.7, label='Across all time') # Plot distribution\n",
    "#plt.hist(tri1[8128001], bins=15, alpha=0.7, label='First trimester')\n",
    "#plt.hist(tri2[8128001], bins=15, alpha=0.7, label='second trimester')\n",
    "plt.hist(tri3[8128001], bins=15, alpha=0.7, label='third trimester')\n",
    "plt.hist(pp[8128001], bins=15, alpha=0.7, label='postpartem')\n",
    "plt.ylim(0,6) # Cut off at N=100 for visual clarity\n",
    "plt.xlabel='samples' # label our axes\n",
    "plt.ylabel='8128001 expression values'\n",
    "plt.title('Gene: 8128001 Expression', fontsize='16')\n",
    "plt.legend()\n",
    "plt.show()"
   ]
  },
  {
   "cell_type": "markdown",
   "metadata": {},
   "source": [
    "### Putting it all together-  Creating our final dataframe:\n",
    "\n",
    "At this point we finished with the data preprocessing steps and are almost ready to start creating our models. First we have to create our final dataframe with the new curated data from the above steps.  Our dataframe will now only include the top 22 genes and sample data from the third trimester and post-partem."
   ]
  },
  {
   "cell_type": "code",
   "execution_count": 52,
   "metadata": {},
   "outputs": [
    {
     "data": {
      "text/html": [
       "<div>\n",
       "<style scoped>\n",
       "    .dataframe tbody tr th:only-of-type {\n",
       "        vertical-align: middle;\n",
       "    }\n",
       "\n",
       "    .dataframe tbody tr th {\n",
       "        vertical-align: top;\n",
       "    }\n",
       "\n",
       "    .dataframe thead th {\n",
       "        text-align: right;\n",
       "    }\n",
       "</style>\n",
       "<table border=\"1\" class=\"dataframe\">\n",
       "  <thead>\n",
       "    <tr style=\"text-align: right;\">\n",
       "      <th>ID_REF</th>\n",
       "      <th>8128001</th>\n",
       "      <th>8070458</th>\n",
       "      <th>8017488</th>\n",
       "      <th>7951662</th>\n",
       "      <th>7951246</th>\n",
       "      <th>8180304</th>\n",
       "      <th>7893349</th>\n",
       "      <th>8084206</th>\n",
       "      <th>7918694</th>\n",
       "      <th>8019842</th>\n",
       "      <th>...</th>\n",
       "      <th>7943160</th>\n",
       "      <th>7930870</th>\n",
       "      <th>7896069</th>\n",
       "      <th>7896704</th>\n",
       "      <th>8088911</th>\n",
       "      <th>8035793</th>\n",
       "      <th>7896123</th>\n",
       "      <th>7893549</th>\n",
       "      <th>8020806</th>\n",
       "      <th>7896558</th>\n",
       "    </tr>\n",
       "  </thead>\n",
       "  <tbody>\n",
       "    <tr>\n",
       "      <th>pt1_t1</th>\n",
       "      <td>3.183323</td>\n",
       "      <td>2.059436</td>\n",
       "      <td>2.760217</td>\n",
       "      <td>1.796702</td>\n",
       "      <td>1.81552</td>\n",
       "      <td>2.704527</td>\n",
       "      <td>2.721869</td>\n",
       "      <td>1.536305</td>\n",
       "      <td>1.675357</td>\n",
       "      <td>2.657084</td>\n",
       "      <td>...</td>\n",
       "      <td>2.325390</td>\n",
       "      <td>3.277669</td>\n",
       "      <td>3.040849</td>\n",
       "      <td>2.192983</td>\n",
       "      <td>1.888929</td>\n",
       "      <td>2.433972</td>\n",
       "      <td>2.850714</td>\n",
       "      <td>2.498484</td>\n",
       "      <td>2.462512</td>\n",
       "      <td>2.312815</td>\n",
       "    </tr>\n",
       "    <tr>\n",
       "      <th>pt1_t2</th>\n",
       "      <td>3.095638</td>\n",
       "      <td>2.937659</td>\n",
       "      <td>3.260248</td>\n",
       "      <td>1.680922</td>\n",
       "      <td>1.81646</td>\n",
       "      <td>3.238912</td>\n",
       "      <td>2.351149</td>\n",
       "      <td>1.602896</td>\n",
       "      <td>1.993895</td>\n",
       "      <td>2.578314</td>\n",
       "      <td>...</td>\n",
       "      <td>1.124461</td>\n",
       "      <td>3.216098</td>\n",
       "      <td>1.889430</td>\n",
       "      <td>3.117884</td>\n",
       "      <td>1.628982</td>\n",
       "      <td>2.453519</td>\n",
       "      <td>2.701383</td>\n",
       "      <td>2.121202</td>\n",
       "      <td>2.398221</td>\n",
       "      <td>2.830989</td>\n",
       "    </tr>\n",
       "    <tr>\n",
       "      <th>pt1_t3</th>\n",
       "      <td>3.110749</td>\n",
       "      <td>2.788043</td>\n",
       "      <td>3.399286</td>\n",
       "      <td>2.982963</td>\n",
       "      <td>2.81963</td>\n",
       "      <td>3.334697</td>\n",
       "      <td>2.896474</td>\n",
       "      <td>2.467626</td>\n",
       "      <td>2.920777</td>\n",
       "      <td>2.927450</td>\n",
       "      <td>...</td>\n",
       "      <td>1.160452</td>\n",
       "      <td>3.377118</td>\n",
       "      <td>2.534738</td>\n",
       "      <td>2.713673</td>\n",
       "      <td>2.562716</td>\n",
       "      <td>2.295309</td>\n",
       "      <td>3.020755</td>\n",
       "      <td>2.912745</td>\n",
       "      <td>2.558091</td>\n",
       "      <td>2.709162</td>\n",
       "    </tr>\n",
       "  </tbody>\n",
       "</table>\n",
       "<p>3 rows × 30 columns</p>\n",
       "</div>"
      ],
      "text/plain": [
       "ID_REF   8128001   8070458   8017488   7951662  7951246   8180304   7893349  \\\n",
       "pt1_t1  3.183323  2.059436  2.760217  1.796702  1.81552  2.704527  2.721869   \n",
       "pt1_t2  3.095638  2.937659  3.260248  1.680922  1.81646  3.238912  2.351149   \n",
       "pt1_t3  3.110749  2.788043  3.399286  2.982963  2.81963  3.334697  2.896474   \n",
       "\n",
       "ID_REF   8084206   7918694   8019842  ...   7943160   7930870   7896069  \\\n",
       "pt1_t1  1.536305  1.675357  2.657084  ...  2.325390  3.277669  3.040849   \n",
       "pt1_t2  1.602896  1.993895  2.578314  ...  1.124461  3.216098  1.889430   \n",
       "pt1_t3  2.467626  2.920777  2.927450  ...  1.160452  3.377118  2.534738   \n",
       "\n",
       "ID_REF   7896704   8088911   8035793   7896123   7893549   8020806   7896558  \n",
       "pt1_t1  2.192983  1.888929  2.433972  2.850714  2.498484  2.462512  2.312815  \n",
       "pt1_t2  3.117884  1.628982  2.453519  2.701383  2.121202  2.398221  2.830989  \n",
       "pt1_t3  2.713673  2.562716  2.295309  3.020755  2.912745  2.558091  2.709162  \n",
       "\n",
       "[3 rows x 30 columns]"
      ]
     },
     "execution_count": 52,
     "metadata": {},
     "output_type": "execute_result"
    }
   ],
   "source": [
    "# Now recreate the dataframe with just the top 30 DE genes included\n",
    "top_de_df = df_t[[8128001, 8070458, 8017488, 7951662, 7951246, 8180304, 7893349, 8084206, \n",
    "              7918694, 8019842, 8180400, 8167693, 8172749, 8037251, 8060734, 8174251, \n",
    "              7894627, 8021147, 7895904, 7945040, 7943160, 7930870, 7896069,\n",
    "              7896704, 8088911, 8035793, 7896123, 7893549, 8020806, 7896558]]\n",
    "\n",
    "top_de_df.head(3)"
   ]
  },
  {
   "cell_type": "code",
   "execution_count": 53,
   "metadata": {},
   "outputs": [],
   "source": [
    "# get rid of the control/non-preg sample \n",
    "top_de_df = top_de_df.iloc[:-4]"
   ]
  },
  {
   "cell_type": "markdown",
   "metadata": {},
   "source": [
    "### Some additional processing/ visualization step - PCA"
   ]
  },
  {
   "cell_type": "code",
   "execution_count": 54,
   "metadata": {},
   "outputs": [
    {
     "name": "stdout",
     "output_type": "stream",
     "text": [
      "[ 1.91794621e+01+0.00000000e+00j  7.22504289e+00+0.00000000e+00j\n",
      "  2.97617710e+00+0.00000000e+00j  1.94886231e+00+0.00000000e+00j\n",
      "  1.70941887e+00+0.00000000e+00j  1.62042093e+00+0.00000000e+00j\n",
      "  1.53895311e+00+0.00000000e+00j  1.26707144e+00+0.00000000e+00j\n",
      "  1.12455424e+00+0.00000000e+00j  1.02149032e+00+0.00000000e+00j\n",
      "  9.29185145e-01+0.00000000e+00j  7.52639578e-01+0.00000000e+00j\n",
      "  6.08469534e-01+0.00000000e+00j  5.88395084e-01+0.00000000e+00j\n",
      "  5.01804496e-01+0.00000000e+00j  4.78543077e-01+0.00000000e+00j\n",
      "  3.82559259e-01+0.00000000e+00j  3.67303979e-01+0.00000000e+00j\n",
      "  2.76026382e-01+0.00000000e+00j  2.53171743e-01+0.00000000e+00j\n",
      "  2.21283132e-01+0.00000000e+00j  1.54559109e-01+0.00000000e+00j\n",
      "  1.32628186e-01+0.00000000e+00j  8.54943873e-02+0.00000000e+00j\n",
      "  9.21131315e-02+0.00000000e+00j  4.36182217e-02+0.00000000e+00j\n",
      "  2.89340086e-02+0.00000000e+00j  9.05960517e-03+0.00000000e+00j\n",
      " -6.47347131e-16+0.00000000e+00j -5.02974430e-16+1.18285119e-16j\n",
      " -5.02974430e-16-1.18285119e-16j  6.20435408e-16+0.00000000e+00j\n",
      "  4.70849549e-16+7.08798937e-17j  4.70849549e-16-7.08798937e-17j\n",
      " -3.60555704e-16+0.00000000e+00j  2.37258584e-16+1.52561931e-16j\n",
      "  2.37258584e-16-1.52561931e-16j  3.11860466e-16+0.00000000e+00j\n",
      "  2.48295314e-16+0.00000000e+00j  1.37718457e-16+0.00000000e+00j\n",
      " -3.85135051e-17+0.00000000e+00j -1.34593128e-16+4.86629820e-17j\n",
      " -1.34593128e-16-4.86629820e-17j -1.85932496e-16+0.00000000e+00j]\n"
     ]
    }
   ],
   "source": [
    "from sklearn.preprocessing import StandardScaler\n",
    "from sklearn.decomposition import PCA\n",
    "\n",
    "# top_de_df.reset_index()\n",
    "top_transformed=top_de_df.T\n",
    "#top_transformed\n",
    "scaler = StandardScaler()\n",
    "X = scaler.fit_transform(top_de_df.T)\n",
    "cmat=np.cov(X.T)\n",
    "eigen_vals, eigen_vecs = np.linalg.eig(cmat)\n",
    "print(eigen_vals)"
   ]
  },
  {
   "cell_type": "code",
   "execution_count": 55,
   "metadata": {},
   "outputs": [
    {
     "data": {
      "text/plain": [
       "[<matplotlib.lines.Line2D at 0x11206b85520>]"
      ]
     },
     "execution_count": 55,
     "metadata": {},
     "output_type": "execute_result"
    },
    {
     "data": {
      "image/png": "[encoded data removed]",
      "text/plain": [
       "<Figure size 432x288 with 1 Axes>"
      ]
     },
     "metadata": {},
     "output_type": "display_data"
    }
   ],
   "source": [
    "tot = sum(eigen_vals)\n",
    "ve = [(i/tot) for i in sorted(eigen_vals, reverse=True)]\n",
    "cum_var_exp = np.cumsum(ve)\n",
    "\n",
    "#plt.ylabel('% Variance Explained')\n",
    "#plt.xlabel('# of Features')\n",
    "plt.title('Scree Plot')\n",
    "\n",
    "plt.plot(cum_var_exp)"
   ]
  },
  {
   "cell_type": "code",
   "execution_count": 56,
   "metadata": {},
   "outputs": [],
   "source": [
    "eigen_pairs = [(np.abs(eigen_vals[i]),eigen_vecs[:,i]) for i in range(len(eigen_vals))]\n",
    "eigen_pairs.sort(key=lambda k: k[0],reverse=True)\n",
    "\n",
    "arr = np.hstack((eigen_pairs[0][1][:,np.newaxis],\n",
    "             eigen_pairs[1][1][:,np.newaxis]))\n",
    "#arr"
   ]
  },
  {
   "cell_type": "code",
   "execution_count": 57,
   "metadata": {},
   "outputs": [
    {
     "name": "stdout",
     "output_type": "stream",
     "text": [
      "    transcript        PC1       PC2\n",
      "0      8128001  -4.708409 -3.674894\n",
      "1      8070458  -2.173753 -3.028606\n",
      "2      8017488  -8.253939 -2.043587\n",
      "3      7951662   0.620275 -2.581843\n",
      "4      7951246  -1.257806 -2.833163\n",
      "5      8180304  -7.533641 -1.666000\n",
      "6      7893349  -0.793591 -1.491318\n",
      "7      8084206   5.038818 -2.540674\n",
      "8      7918694   1.790848 -2.551993\n",
      "9      8019842  -4.105855 -1.579047\n",
      "10     8180400   5.428413 -3.021046\n",
      "11     8167693   1.682236 -2.199051\n",
      "12     8172749   1.682236 -2.199051\n",
      "13     8037251  -2.506357 -2.209810\n",
      "14     8060734   1.316472 -3.157806\n",
      "15     8174251   1.073885  4.904768\n",
      "16     7894627   3.896112  2.589029\n",
      "17     8021147   0.165358  3.816341\n",
      "18     7895904   1.511030  1.741815\n",
      "19     7945040   8.428839  0.441460\n",
      "20     7943160  10.886346  0.503732\n",
      "21     7930870  -5.990301  4.623091\n",
      "22     7896069  -3.410216  2.507395\n",
      "23     7896704  -2.366791  2.785648\n",
      "24     8088911   2.017833  1.562973\n",
      "25     8035793   0.797581  2.133118\n",
      "26     7896123  -6.534514  2.897198\n",
      "27     7893549   0.334561  2.931906\n",
      "28     8020806   1.523395  1.870350\n",
      "29     7896558   1.440934  1.469068\n"
     ]
    }
   ],
   "source": [
    "X_pca = X.dot(arr)\n",
    "pca = PCA(n_components=2)\n",
    "Pc=pca.fit_transform(X)\n",
    "pca_df = pd.DataFrame(data = Pc, columns = ['PC1', 'PC2'])\n",
    "y=[8128001, 8070458, 8017488, 7951662, 7951246, 8180304, 7893349, 8084206, \n",
    "              7918694, 8019842, 8180400, 8167693, 8172749, 8037251, 8060734, 8174251, \n",
    "              7894627, 8021147, 7895904, 7945040, 7943160, 7930870, 7896069,\n",
    "              7896704, 8088911, 8035793, 7896123, 7893549, 8020806, 7896558]\n",
    "\n",
    "d = pd.DataFrame(data=y, columns = ['transcript'])\n",
    "pca_df1 = pd.concat([d, pca_df], axis=1)\n",
    "print(pca_df1)"
   ]
  },
  {
   "cell_type": "code",
   "execution_count": 58,
   "metadata": {},
   "outputs": [
    {
     "data": {
      "image/png": "[encoded data removed]",
      "text/plain": [
       "<Figure size 864x576 with 1 Axes>"
      ]
     },
     "metadata": {},
     "output_type": "display_data"
    }
   ],
   "source": [
    "plt.figure(figsize = (12,8))\n",
    "sns.scatterplot( x=\"PC1\", y=\"PC2\",\n",
    "                data=pca_df1, \n",
    "                hue = 'transcript',\n",
    "                size='transcript',\n",
    "                legend='full')\n",
    "plt.title('PCA plot - Transcript Levels', fontsize=(14))\n",
    "plt.show()"
   ]
  },
  {
   "cell_type": "markdown",
   "metadata": {},
   "source": [
    "### Models: Testing on the full dataset - all classes (minus control class)\n",
    "\n",
    "We begin by running various classification models on all the classes to see how they perform, and what areas we might need to improve upon. "
   ]
  },
  {
   "cell_type": "code",
   "execution_count": 59,
   "metadata": {},
   "outputs": [],
   "source": [
    "# add in our y \n",
    "y1 = [1,2,3, 4] * 11    \n",
    "\n",
    "# add our classes/ taget col to the new dataframe\n",
    "top_de_df['y'] = y1\n",
    "y1 = top_de_df['y'].values\n",
    "\n",
    "\n",
    "\n",
    "# get our X and y values\n",
    "X_labels = top_de_df.columns[0:30]\n",
    "X1 = np.array(top_de_df[X_labels].values)"
   ]
  },
  {
   "cell_type": "code",
   "execution_count": 60,
   "metadata": {},
   "outputs": [
    {
     "name": "stdout",
     "output_type": "stream",
     "text": [
      "LogReg| Mean=0.527778 STD=0.138332\n",
      "SVM| Mean=0.522222 STD=0.044444\n",
      "DecTree| Mean=0.547222 STD=0.134830\n",
      "KNN| Mean=0.433333 STD=0.088889\n",
      "LinDisc| Mean=0.477778 STD=0.129577\n",
      "GaussianNB| Mean=0.522222 STD=0.129577\n"
     ]
    }
   ],
   "source": [
    "# run a few standard classification models with default parameters and kfold cv\n",
    "outcome = []\n",
    "model_names = []\n",
    "models = [('LogReg', LogisticRegression()), \n",
    "          ('SVM', SVC()), \n",
    "          ('DecTree', DecisionTreeClassifier()),\n",
    "          ('KNN', KNeighborsClassifier()),\n",
    "          ('LinDisc', LinearDiscriminantAnalysis()),\n",
    "          ('GaussianNB', GaussianNB())]\n",
    "\n",
    "for model_name, model in models:\n",
    "    k_fold_validation = model_selection.KFold(n_splits=5)\n",
    "    results = model_selection.cross_val_score(model, X1, y1, cv=k_fold_validation, scoring='accuracy')\n",
    "    outcome.append(results)\n",
    "    model_names.append(model_name)\n",
    "    output_message = \"%s| Mean=%f STD=%f\" % (model_name, results.mean(), results.std())\n",
    "    print(output_message)"
   ]
  },
  {
   "cell_type": "code",
   "execution_count": 61,
   "metadata": {},
   "outputs": [
    {
     "data": {
      "image/png": "[encoded data removed]",
      "text/plain": [
       "<Figure size 1008x432 with 1 Axes>"
      ]
     },
     "metadata": {},
     "output_type": "display_data"
    }
   ],
   "source": [
    "fig = plt.figure(figsize=(14,6))\n",
    "fig.suptitle('Machine Learning Model Comparison')\n",
    "ax = fig.add_subplot(111)\n",
    "plt.boxplot(outcome)\n",
    "ax.set_xticklabels(model_names)\n",
    "plt.show()"
   ]
  },
  {
   "cell_type": "code",
   "execution_count": 62,
   "metadata": {},
   "outputs": [],
   "source": [
    "# Seperate into test and train data\n",
    "from sklearn.model_selection import train_test_split\n",
    "\n",
    "X_train, X_test, y_train, y_test = train_test_split(\n",
    "    X1, y1, test_size=0.3) "
   ]
  },
  {
   "cell_type": "code",
   "execution_count": 63,
   "metadata": {},
   "outputs": [],
   "source": [
    "# scaling the features - standardize\n",
    "from sklearn.preprocessing import StandardScaler\n",
    "\n",
    "scaler = StandardScaler()\n",
    "scaler.fit(X_train)\n",
    "X_train_std = scaler.transform(X_train)\n",
    "X_test_std = scaler.transform(X_test)"
   ]
  },
  {
   "cell_type": "code",
   "execution_count": 43,
   "metadata": {},
   "outputs": [
    {
     "name": "stdout",
     "output_type": "stream",
     "text": [
      "Predicted  1  2  4\n",
      "Actual            \n",
      "1          2  1  0\n",
      "2          1  1  0\n",
      "3          2  3  0\n",
      "4          0  1  3\n",
      "Accuracy = 0.42857142857142855\n",
      "              precision    recall  f1-score   support\n",
      "\n",
      "           1       0.40      0.67      0.50         3\n",
      "           2       0.17      0.50      0.25         2\n",
      "           3       0.00      0.00      0.00         5\n",
      "           4       1.00      0.75      0.86         4\n",
      "\n",
      "    accuracy                           0.43        14\n",
      "   macro avg       0.39      0.48      0.40        14\n",
      "weighted avg       0.40      0.43      0.39        14\n",
      "\n"
     ]
    }
   ],
   "source": [
    "svc = svm.SVC(kernel='linear', C =0.5)\n",
    "svc.fit(X_train_std, y_train)\n",
    "\n",
    "y_hat = svc.predict(X_test_std)\n",
    "\n",
    "# Calculate accuracy \n",
    "print(pd.crosstab(y_test, y_hat, rownames=['Actual'], colnames=['Predicted']))\n",
    "print('Accuracy =', accuracy_score(y_test, y_hat))\n",
    "\n",
    "print(classification_report (y_test, y_hat))"
   ]
  },
  {
   "cell_type": "code",
   "execution_count": 44,
   "metadata": {},
   "outputs": [
    {
     "name": "stdout",
     "output_type": "stream",
     "text": [
      "[0.5 0.5 0.  1. ]\n",
      "0.50 accuracy with a standard deviation of 0.35\n",
      "Predicted  1  2  4\n",
      "Actual            \n",
      "1          2  1  0\n",
      "2          1  1  0\n",
      "3          2  3  0\n",
      "4          0  1  3\n",
      "Accuracy = 0.42857142857142855\n",
      "              precision    recall  f1-score   support\n",
      "\n",
      "           1       0.40      0.67      0.50         3\n",
      "           2       0.17      0.50      0.25         2\n",
      "           3       0.00      0.00      0.00         5\n",
      "           4       1.00      0.75      0.86         4\n",
      "\n",
      "    accuracy                           0.43        14\n",
      "   macro avg       0.39      0.48      0.40        14\n",
      "weighted avg       0.40      0.43      0.39        14\n",
      "\n"
     ]
    }
   ],
   "source": [
    "# Update the SVC model to see if we can get a better performance\n",
    "svc1 = svm.SVC(kernel='linear', C =.05, gamma='auto')  # changed regularization, kernel = linear\n",
    "svc1.fit(X_train_std, y_train)\n",
    "\n",
    "# add in cross validation\n",
    "scores1 = cross_val_score(svc1, X_test_std, y_test, cv=4)\n",
    "print(scores1)\n",
    "print(\"%0.2f accuracy with a standard deviation of %0.2f\" % (scores1.mean(), scores1.std()))\n",
    "\n",
    "y_hat1 = svc1.predict(X_test_std)\n",
    "\n",
    "# Calculate accuracy \n",
    "print(pd.crosstab(y_test, y_hat1, rownames=['Actual'], colnames=['Predicted']))\n",
    "print('Accuracy =', accuracy_score(y_test, y_hat1))\n",
    "\n",
    "print(classification_report (y_test, y_hat1))"
   ]
  },
  {
   "cell_type": "code",
   "execution_count": 45,
   "metadata": {},
   "outputs": [
    {
     "name": "stdout",
     "output_type": "stream",
     "text": [
      "Accuracy for Decision Tree model:  42.857142857142854\n",
      "Predicted  1  2  3  4\n",
      "Actual               \n",
      "1          2  1  0  0\n",
      "2          1  1  0  0\n",
      "3          0  4  1  0\n",
      "4          2  0  0  2\n"
     ]
    }
   ],
   "source": [
    "# Create decision tree with adaboost classifer\n",
    "from sklearn.ensemble import AdaBoostClassifier\n",
    "from sklearn.tree import DecisionTreeClassifier\n",
    "from sklearn.metrics import confusion_matrix\n",
    "\n",
    "# Create a decision tree object\n",
    "tree = DecisionTreeClassifier()\n",
    "\n",
    "# Fit on training data\n",
    "tree.fit(X_train_std, y_train)\n",
    "abc = AdaBoostClassifier(base_estimator=tree)\n",
    "\n",
    "# Train Adaboost Classifer\n",
    "model = abc.fit(X_train_std, y_train)\n",
    "\n",
    "#Predict the response with test dataset\n",
    "y_pred = model.predict(X_test_std)\n",
    "\n",
    "print(\"Accuracy for Decision Tree model: \", accuracy_score(y_test,y_pred)*100) ## Still not great\n",
    "\n",
    "# Make a Confusion Matrix\n",
    "print(pd.crosstab(y_test, y_pred, rownames=['Actual'], colnames=['Predicted']))"
   ]
  },
  {
   "cell_type": "code",
   "execution_count": 59,
   "metadata": {},
   "outputs": [
    {
     "name": "stdout",
     "output_type": "stream",
     "text": [
      "Best Accuracy =  0.6696428571428572\n",
      "{'criterion': 'gini', 'max_depth': 4, 'max_features': 'sqrt', 'min_samples_leaf': 3, 'min_samples_split': 5, 'presort': False}\n",
      "DecisionTreeClassifier(max_depth=4, max_features='sqrt', min_samples_leaf=3,\n",
      "                       min_samples_split=5, presort=False)\n"
     ]
    }
   ],
   "source": [
    "# Try Gridsearch to tune the hyperparameters to see if we get better accuracy\n",
    "from sklearn.model_selection import GridSearchCV\n",
    "tree_param = {'criterion':['gini','entropy'],\n",
    "             'max_depth':[2,3,4,5,6,7,8,9,10,11,12,15,20],\n",
    "             'min_samples_split':[3,4,5,10,20,30,40,50,60,70,80,90,100], \n",
    "             'min_samples_leaf':[2,3,4,5,6,7,8,9,10], \n",
    "             'max_features':list(range(1,X_train_std.shape[1])), \n",
    "             'max_features': ['auto', 'sqrt', 'log2'],\n",
    "             'presort':[True, False]\n",
    "            }\n",
    "grid = GridSearchCV(DecisionTreeClassifier(), tree_param, cv=4)\n",
    "grid.fit(X_train_std, y_train)\n",
    "#best_predict = grid.best_score_(y_test)\n",
    "print('Best Accuracy = ',grid.best_score_)\n",
    "print(grid.best_params_)\n",
    "print(grid.best_estimator_)\n",
    "#print(pd.crosstab(y_test, best_predict, rownames=['Actual'], colnames=['Predicted']))"
   ]
  },
  {
   "cell_type": "code",
   "execution_count": 60,
   "metadata": {},
   "outputs": [
    {
     "name": "stdout",
     "output_type": "stream",
     "text": [
      "Accuracy: 0.21428571428571427\n"
     ]
    }
   ],
   "source": [
    "# Now use adaboost on the gridsearch results to see if we can get an even better prediction\n",
    "tree = grid.best_estimator_\n",
    "tree.fit(X_train_std, y_train)\n",
    "\n",
    "# Create adaboost classifer object\n",
    "abc = AdaBoostClassifier(n_estimators=100,\n",
    "                         learning_rate=10,\n",
    "                         base_estimator=tree)\n",
    "# Train Adaboost Classifer\n",
    "tree2 = abc.fit(X_train_std, y_train)\n",
    "\n",
    "# Predict the response for test dataset\n",
    "y_hat2 = tree2.predict(X_test_std)\n",
    "print(\"Accuracy:\",accuracy_score(y_test, y_hat2))"
   ]
  },
  {
   "cell_type": "code",
   "execution_count": 61,
   "metadata": {},
   "outputs": [
    {
     "name": "stdout",
     "output_type": "stream",
     "text": [
      "Predicted  1  2  4\n",
      "Actual            \n",
      "1          1  2  0\n",
      "2          0  2  0\n",
      "3          0  5  0\n",
      "4          0  0  4\n",
      "Accuracy = 0.5\n"
     ]
    }
   ],
   "source": [
    "from sklearn.ensemble import RandomForestClassifier\n",
    "from sklearn.datasets import make_classification\n",
    "\n",
    "rfc = RandomForestClassifier(n_estimators = 20, \n",
    "                                    criterion = 'entropy')\n",
    "rfc.fit(X_train_std, y_train)\n",
    "y_pred = rfc.predict(X_test_std)\n",
    "\n",
    "# Making the Confusion Matrix\n",
    "print(pd.crosstab(y_test, y_pred, rownames=['Actual'], colnames=['Predicted']))\n",
    "print('Accuracy =', accuracy_score(y_test, y_pred))"
   ]
  },
  {
   "cell_type": "code",
   "execution_count": 48,
   "metadata": {},
   "outputs": [
    {
     "name": "stdout",
     "output_type": "stream",
     "text": [
      "Predicted  1  2  3  4\n",
      "Actual               \n",
      "1          2  1  0  0\n",
      "2          1  1  0  0\n",
      "3          0  4  1  0\n",
      "4          0  1  0  3\n",
      "Accuracy = 0.5\n"
     ]
    }
   ],
   "source": [
    "lrc = LogisticRegression().fit(X_train_std, y_train)\n",
    "y_hat4 = lrc.predict(X_test_std)\n",
    "\n",
    "# Making the Confusion Matrix\n",
    "print(pd.crosstab(y_test, y_hat4, rownames=['Actual'], colnames=['Predicted']))\n",
    "print('Accuracy =', accuracy_score(y_test, y_hat4))"
   ]
  },
  {
   "cell_type": "markdown",
   "metadata": {},
   "source": [
    "### Testing on just the two classes - Third trimester vs post-partem"
   ]
  },
  {
   "cell_type": "code",
   "execution_count": 64,
   "metadata": {},
   "outputs": [
    {
     "data": {
      "text/html": [
       "<div>\n",
       "<style scoped>\n",
       "    .dataframe tbody tr th:only-of-type {\n",
       "        vertical-align: middle;\n",
       "    }\n",
       "\n",
       "    .dataframe tbody tr th {\n",
       "        vertical-align: top;\n",
       "    }\n",
       "\n",
       "    .dataframe thead th {\n",
       "        text-align: right;\n",
       "    }\n",
       "</style>\n",
       "<table border=\"1\" class=\"dataframe\">\n",
       "  <thead>\n",
       "    <tr style=\"text-align: right;\">\n",
       "      <th>ID_REF</th>\n",
       "      <th>8128001</th>\n",
       "      <th>8070458</th>\n",
       "      <th>8017488</th>\n",
       "      <th>7951662</th>\n",
       "      <th>7951246</th>\n",
       "      <th>8180304</th>\n",
       "      <th>7893349</th>\n",
       "      <th>8084206</th>\n",
       "      <th>7918694</th>\n",
       "      <th>8019842</th>\n",
       "      <th>...</th>\n",
       "      <th>7930870</th>\n",
       "      <th>7896069</th>\n",
       "      <th>7896704</th>\n",
       "      <th>8088911</th>\n",
       "      <th>8035793</th>\n",
       "      <th>7896123</th>\n",
       "      <th>7893549</th>\n",
       "      <th>8020806</th>\n",
       "      <th>7896558</th>\n",
       "      <th>y</th>\n",
       "    </tr>\n",
       "  </thead>\n",
       "  <tbody>\n",
       "    <tr>\n",
       "      <th>pt1_t3</th>\n",
       "      <td>3.110749</td>\n",
       "      <td>2.788043</td>\n",
       "      <td>3.399286</td>\n",
       "      <td>2.982963</td>\n",
       "      <td>2.819630</td>\n",
       "      <td>3.334697</td>\n",
       "      <td>2.896474</td>\n",
       "      <td>2.467626</td>\n",
       "      <td>2.920777</td>\n",
       "      <td>2.927450</td>\n",
       "      <td>...</td>\n",
       "      <td>3.377118</td>\n",
       "      <td>2.534738</td>\n",
       "      <td>2.713673</td>\n",
       "      <td>2.562716</td>\n",
       "      <td>2.295309</td>\n",
       "      <td>3.020755</td>\n",
       "      <td>2.912745</td>\n",
       "      <td>2.558091</td>\n",
       "      <td>2.709162</td>\n",
       "      <td>3</td>\n",
       "    </tr>\n",
       "    <tr>\n",
       "      <th>pt1_pp</th>\n",
       "      <td>1.660869</td>\n",
       "      <td>1.844100</td>\n",
       "      <td>2.431636</td>\n",
       "      <td>1.538719</td>\n",
       "      <td>1.633755</td>\n",
       "      <td>2.511137</td>\n",
       "      <td>2.318703</td>\n",
       "      <td>1.475046</td>\n",
       "      <td>1.677346</td>\n",
       "      <td>1.941945</td>\n",
       "      <td>...</td>\n",
       "      <td>3.060299</td>\n",
       "      <td>3.222969</td>\n",
       "      <td>3.091271</td>\n",
       "      <td>2.757907</td>\n",
       "      <td>2.958503</td>\n",
       "      <td>2.948286</td>\n",
       "      <td>2.625796</td>\n",
       "      <td>2.969104</td>\n",
       "      <td>2.840319</td>\n",
       "      <td>4</td>\n",
       "    </tr>\n",
       "    <tr>\n",
       "      <th>pt2_t3</th>\n",
       "      <td>2.737647</td>\n",
       "      <td>2.789186</td>\n",
       "      <td>3.313469</td>\n",
       "      <td>2.594676</td>\n",
       "      <td>3.441163</td>\n",
       "      <td>3.054447</td>\n",
       "      <td>2.676358</td>\n",
       "      <td>2.808282</td>\n",
       "      <td>3.135397</td>\n",
       "      <td>3.346357</td>\n",
       "      <td>...</td>\n",
       "      <td>3.380631</td>\n",
       "      <td>2.930025</td>\n",
       "      <td>2.756968</td>\n",
       "      <td>2.485736</td>\n",
       "      <td>2.432636</td>\n",
       "      <td>2.881689</td>\n",
       "      <td>2.036162</td>\n",
       "      <td>2.484076</td>\n",
       "      <td>1.680420</td>\n",
       "      <td>3</td>\n",
       "    </tr>\n",
       "    <tr>\n",
       "      <th>pt2_pp</th>\n",
       "      <td>1.988295</td>\n",
       "      <td>2.218284</td>\n",
       "      <td>2.466469</td>\n",
       "      <td>1.645306</td>\n",
       "      <td>2.403199</td>\n",
       "      <td>2.606033</td>\n",
       "      <td>1.085504</td>\n",
       "      <td>1.464668</td>\n",
       "      <td>2.187160</td>\n",
       "      <td>2.601413</td>\n",
       "      <td>...</td>\n",
       "      <td>2.970468</td>\n",
       "      <td>3.381897</td>\n",
       "      <td>2.290621</td>\n",
       "      <td>2.211037</td>\n",
       "      <td>2.562911</td>\n",
       "      <td>3.406854</td>\n",
       "      <td>3.258261</td>\n",
       "      <td>1.810349</td>\n",
       "      <td>1.756897</td>\n",
       "      <td>4</td>\n",
       "    </tr>\n",
       "    <tr>\n",
       "      <th>pt3_t3</th>\n",
       "      <td>3.204279</td>\n",
       "      <td>3.087972</td>\n",
       "      <td>3.474054</td>\n",
       "      <td>3.010974</td>\n",
       "      <td>3.255985</td>\n",
       "      <td>3.453194</td>\n",
       "      <td>2.761356</td>\n",
       "      <td>2.424237</td>\n",
       "      <td>3.098977</td>\n",
       "      <td>3.080086</td>\n",
       "      <td>...</td>\n",
       "      <td>3.084699</td>\n",
       "      <td>2.622824</td>\n",
       "      <td>2.383003</td>\n",
       "      <td>1.655158</td>\n",
       "      <td>2.674994</td>\n",
       "      <td>2.869472</td>\n",
       "      <td>2.393483</td>\n",
       "      <td>1.901622</td>\n",
       "      <td>2.171639</td>\n",
       "      <td>3</td>\n",
       "    </tr>\n",
       "  </tbody>\n",
       "</table>\n",
       "<p>5 rows × 31 columns</p>\n",
       "</div>"
      ],
      "text/plain": [
       "ID_REF   8128001   8070458   8017488   7951662   7951246   8180304   7893349  \\\n",
       "pt1_t3  3.110749  2.788043  3.399286  2.982963  2.819630  3.334697  2.896474   \n",
       "pt1_pp  1.660869  1.844100  2.431636  1.538719  1.633755  2.511137  2.318703   \n",
       "pt2_t3  2.737647  2.789186  3.313469  2.594676  3.441163  3.054447  2.676358   \n",
       "pt2_pp  1.988295  2.218284  2.466469  1.645306  2.403199  2.606033  1.085504   \n",
       "pt3_t3  3.204279  3.087972  3.474054  3.010974  3.255985  3.453194  2.761356   \n",
       "\n",
       "ID_REF   8084206   7918694   8019842  ...   7930870   7896069   7896704  \\\n",
       "pt1_t3  2.467626  2.920777  2.927450  ...  3.377118  2.534738  2.713673   \n",
       "pt1_pp  1.475046  1.677346  1.941945  ...  3.060299  3.222969  3.091271   \n",
       "pt2_t3  2.808282  3.135397  3.346357  ...  3.380631  2.930025  2.756968   \n",
       "pt2_pp  1.464668  2.187160  2.601413  ...  2.970468  3.381897  2.290621   \n",
       "pt3_t3  2.424237  3.098977  3.080086  ...  3.084699  2.622824  2.383003   \n",
       "\n",
       "ID_REF   8088911   8035793   7896123   7893549   8020806   7896558  y  \n",
       "pt1_t3  2.562716  2.295309  3.020755  2.912745  2.558091  2.709162  3  \n",
       "pt1_pp  2.757907  2.958503  2.948286  2.625796  2.969104  2.840319  4  \n",
       "pt2_t3  2.485736  2.432636  2.881689  2.036162  2.484076  1.680420  3  \n",
       "pt2_pp  2.211037  2.562911  3.406854  3.258261  1.810349  1.756897  4  \n",
       "pt3_t3  1.655158  2.674994  2.869472  2.393483  1.901622  2.171639  3  \n",
       "\n",
       "[5 rows x 31 columns]"
      ]
     },
     "execution_count": 64,
     "metadata": {},
     "output_type": "execute_result"
    }
   ],
   "source": [
    "# Keep just samples from 3rd trimester and post-partem\n",
    "array = [3, 4]\n",
    "df_3 = top_de_df.loc[top_de_df['y'].isin(array)]\n",
    "df_3.head()"
   ]
  },
  {
   "cell_type": "markdown",
   "metadata": {},
   "source": [
    "### Splitting our data - \n",
    "\n",
    "We split the final dataframe into our target values (y), and feature values (X). Then we further split the data into a training dataset and a testing dataset which we will be using to train and test our models. "
   ]
  },
  {
   "cell_type": "code",
   "execution_count": 65,
   "metadata": {},
   "outputs": [
    {
     "name": "stdout",
     "output_type": "stream",
     "text": [
      "(22,)\n",
      "(22, 30)\n"
     ]
    }
   ],
   "source": [
    "# Re-create our X and y matrices  \n",
    "y1 = [3, 4] * 11    \n",
    "\n",
    "# add our classes/ taget col to the dataframe\n",
    "df_3['y'] = y1\n",
    "y1 = df_3['y'].values\n",
    "\n",
    "# get our X and y values\n",
    "X_labels = df_3.columns[0:30]\n",
    "X1 = np.array(df_3[X_labels].values)\n",
    "\n",
    "print(y1.shape)\n",
    "print(X1.shape)"
   ]
  },
  {
   "cell_type": "markdown",
   "metadata": {},
   "source": [
    "### PCA Across patients from 3rd trimester and post-partem"
   ]
  },
  {
   "cell_type": "code",
   "execution_count": 66,
   "metadata": {},
   "outputs": [
    {
     "name": "stdout",
     "output_type": "stream",
     "text": [
      "[ 1.37001268e+01+0.00000000e+00j  3.71963720e+00+0.00000000e+00j\n",
      "  2.80786931e+00+0.00000000e+00j  2.12881897e+00+0.00000000e+00j\n",
      "  1.73468595e+00+0.00000000e+00j  1.50600447e+00+0.00000000e+00j\n",
      "  1.34679103e+00+0.00000000e+00j  1.01050781e+00+0.00000000e+00j\n",
      "  8.91575337e-01+0.00000000e+00j  7.54832407e-01+0.00000000e+00j\n",
      "  6.63000059e-01+0.00000000e+00j  5.84984929e-01+0.00000000e+00j\n",
      "  4.33279985e-01+0.00000000e+00j  3.20753156e-01+0.00000000e+00j\n",
      "  2.70728330e-01+0.00000000e+00j  2.15162526e-01+0.00000000e+00j\n",
      "  1.36730472e-01+0.00000000e+00j  9.88228027e-02+0.00000000e+00j\n",
      "  7.09368449e-02+0.00000000e+00j  4.75666910e-02+0.00000000e+00j\n",
      "  3.33754136e-02+0.00000000e+00j  1.05100450e-15+0.00000000e+00j\n",
      " -4.73778712e-16+0.00000000e+00j -4.49437527e-16+0.00000000e+00j\n",
      "  2.99865877e-16+0.00000000e+00j  1.25413641e-16+1.55879276e-16j\n",
      "  1.25413641e-16-1.55879276e-16j  1.26445382e-17+9.08685342e-17j\n",
      "  1.26445382e-17-9.08685342e-17j -1.23028549e-16+0.00000000e+00j\n",
      " -2.20538142e-16+0.00000000e+00j]\n"
     ]
    }
   ],
   "source": [
    "scaler = StandardScaler()\n",
    "X = scaler.fit_transform(df_3)\n",
    "cmat=np.cov(X.T)\n",
    "eigen_vals, eigen_vecs = np.linalg.eig(cmat)\n",
    "print(eigen_vals)"
   ]
  },
  {
   "cell_type": "code",
   "execution_count": 67,
   "metadata": {},
   "outputs": [
    {
     "data": {
      "text/plain": [
       "[<matplotlib.lines.Line2D at 0x112068327c0>]"
      ]
     },
     "execution_count": 67,
     "metadata": {},
     "output_type": "execute_result"
    },
    {
     "data": {
      "image/png": "[encoded data removed]",
      "text/plain": [
       "<Figure size 432x288 with 1 Axes>"
      ]
     },
     "metadata": {},
     "output_type": "display_data"
    }
   ],
   "source": [
    "tot = sum(eigen_vals)\n",
    "ve = [(i/tot) for i in sorted(eigen_vals, reverse=True)]\n",
    "cum_var_exp = np.cumsum(ve)\n",
    "\n",
    "\n",
    "# plt.ylabel('% Variance Explained')\n",
    "#plt.xlabel('# of Features')\n",
    "plt.title('Scree Plot')\n",
    "\n",
    "plt.plot(cum_var_exp)"
   ]
  },
  {
   "cell_type": "code",
   "execution_count": 68,
   "metadata": {},
   "outputs": [],
   "source": [
    "eigen_pairs = [(np.abs(eigen_vals[i]),eigen_vecs[:,i]) for i in range(len(eigen_vals))]\n",
    "eigen_pairs.sort(key=lambda k: k[0],reverse=True)\n",
    "\n",
    "arr = np.hstack((eigen_pairs[0][1][:,np.newaxis],\n",
    "             eigen_pairs[1][1][:,np.newaxis]))\n",
    "\n",
    "#arr"
   ]
  },
  {
   "cell_type": "code",
   "execution_count": 69,
   "metadata": {},
   "outputs": [],
   "source": [
    "# PCA across patient groups\n",
    "X_pca = X.dot(arr)\n",
    "pca = PCA(n_components=2)\n",
    "Pc=pca.fit_transform(X)\n",
    "pca_df = pd.DataFrame(data = Pc, columns = ['PC1', 'PC2'])\n"
   ]
  },
  {
   "cell_type": "code",
   "execution_count": 70,
   "metadata": {},
   "outputs": [
    {
     "name": "stdout",
     "output_type": "stream",
     "text": [
      "    patients       PC1       PC2\n",
      "0          3  2.430827 -2.543240\n",
      "1          4 -4.560385 -1.073866\n",
      "2          3  4.386897 -0.629315\n",
      "3          4 -3.053299  1.277703\n",
      "4          3  5.117675 -2.190759\n",
      "5          4 -3.744242 -0.762400\n",
      "6          3  3.881749 -1.103985\n",
      "7          4 -1.632839  0.011237\n",
      "8          3  4.132520 -0.903661\n",
      "9          4 -3.816763 -1.272172\n",
      "10         3  2.641036 -0.398122\n",
      "11         4 -4.644298 -1.029306\n",
      "12         3  3.911312  4.909000\n",
      "13         4 -3.820971 -0.340294\n",
      "14         3  2.789401  2.973549\n",
      "15         4 -2.500288  0.670597\n",
      "16         3  1.069752  3.889085\n",
      "17         4 -2.324165  0.816336\n",
      "18         3  4.356599 -0.676356\n",
      "19         4 -4.156642 -0.828046\n",
      "20         3  3.473014 -2.328394\n",
      "21         4 -3.936892  1.532410\n"
     ]
    }
   ],
   "source": [
    "d = pd.DataFrame(data=y1, columns = ['patients'])\n",
    "pca_df1 = pd.concat([d, pca_df], axis=1)\n",
    "print(pca_df1)"
   ]
  },
  {
   "cell_type": "code",
   "execution_count": 72,
   "metadata": {},
   "outputs": [
    {
     "data": {
      "image/png": "[encoded data removed]",
      "text/plain": [
       "<Figure size 720x432 with 1 Axes>"
      ]
     },
     "metadata": {},
     "output_type": "display_data"
    }
   ],
   "source": [
    "fig = plt.figure(figsize=(10,6))\n",
    "sns.scatterplot( x=\"PC1\", y=\"PC2\",\n",
    "                data=pca_df1, \n",
    "                hue = 'patients',\n",
    "                legend='full') # specify the point size\n",
    "plt.show()"
   ]
  },
  {
   "cell_type": "markdown",
   "metadata": {},
   "source": [
    "## Test some classification models on new dataset - "
   ]
  },
  {
   "cell_type": "code",
   "execution_count": 77,
   "metadata": {},
   "outputs": [
    {
     "name": "stdout",
     "output_type": "stream",
     "text": [
      "LogReg| Mean=1.000000 STD=0.000000\n",
      "SVM| Mean=0.960000 STD=0.080000\n",
      "DecTree| Mean=1.000000 STD=0.000000\n",
      "KNN| Mean=1.000000 STD=0.000000\n",
      "LinDisc| Mean=1.000000 STD=0.000000\n",
      "GaussianNB| Mean=1.000000 STD=0.000000\n",
      "RFC| Mean=1.000000 STD=0.000000\n",
      "AdaBoost| Mean=1.000000 STD=0.000000\n",
      "MLP| Mean=1.000000 STD=0.000000\n"
     ]
    }
   ],
   "source": [
    "# run a few standard classification models with default parameters and kfold cv on our new dataframe\n",
    "outcome = []\n",
    "model_names = []\n",
    "models = [('LogReg', LogisticRegression()), \n",
    "          ('SVM', SVC()), \n",
    "          ('DecTree', DecisionTreeClassifier()),\n",
    "          ('KNN', KNeighborsClassifier()),\n",
    "          ('LinDisc', LinearDiscriminantAnalysis()),\n",
    "          ('GaussianNB', GaussianNB()),\n",
    "          ('RFC', RandomForestClassifier()),\n",
    "          ('AdaBoost', AdaBoostClassifier()),\n",
    "          ('MLP', MLPClassifier())]\n",
    "\n",
    "for model_name, model in models:\n",
    "    k_fold_validation = model_selection.KFold(n_splits=5)\n",
    "    results = model_selection.cross_val_score(model, X1, y1, cv=k_fold_validation, scoring='accuracy')\n",
    "    outcome.append(results)\n",
    "    model_names.append(model_name)\n",
    "    output_message = \"%s| Mean=%f STD=%f\" % (model_name, results.mean(), results.std())\n",
    "    print(output_message)"
   ]
  },
  {
   "cell_type": "code",
   "execution_count": 76,
   "metadata": {},
   "outputs": [
    {
     "data": {
      "image/png": "[encoded data removed]",
      "text/plain": [
       "<Figure size 864x288 with 1 Axes>"
      ]
     },
     "metadata": {
      "needs_background": "light"
     },
     "output_type": "display_data"
    }
   ],
   "source": [
    "fig = plt.figure(figsize=(12,4))\n",
    "ax = fig.add_axes([0,0,1,1])\n",
    "models1 = ['LogReg','SVM', 'SVM-1','DecTree','DT_Grid','KNN','LinDisc', 'GaussianNB','RFC', 'AdaBoost', 'MLP']\n",
    "results = [100,80,100,60, 100, 100,95,95,100,90,100]\n",
    "ax.bar(models1,results)\n",
    "plt.title('Machine Learning Model Comparison', fontsize=(16))\n",
    "plt.show()"
   ]
  },
  {
   "cell_type": "markdown",
   "metadata": {},
   "source": [
    "## Results: "
   ]
  },
  {
   "cell_type": "markdown",
   "metadata": {},
   "source": [
    "### Models: Classification and Prediction \n",
    "\n",
    "Now our data is are ready to be used to begin testing various machine learning classification models. \n",
    "\n",
    "After testing our a few models we were able to determine that most of the models ran with a very high accuracy rate. SVM, decision trees, and random forest all performed the best when the hyper-parameters were carefully selected. \n",
    "\n",
    "For the SVM models, after adjusting the kernal to 'linear' and the regularization parameter to 0.05 the performance increased from around 88% to 100% accruacy. \n",
    "\n",
    "The decision tree model performed poorly with the default parameters, but when adjusted using gridsearch to find the best parameters the model improved from around 55% to 100%. \n"
   ]
  },
  {
   "cell_type": "code",
   "execution_count": 79,
   "metadata": {},
   "outputs": [],
   "source": [
    "# Seperate into test and train data\n",
    "from sklearn.model_selection import train_test_split\n",
    "\n",
    "X_train, X_test, y_train, y_test = train_test_split(\n",
    "    X1, y1, test_size=0.4) "
   ]
  },
  {
   "cell_type": "code",
   "execution_count": 80,
   "metadata": {},
   "outputs": [],
   "source": [
    "# scaling the features - standardize\n",
    "from sklearn.preprocessing import StandardScaler\n",
    "\n",
    "scaler = StandardScaler()\n",
    "scaler.fit(X_train)\n",
    "X_train_std = scaler.transform(X_train)\n",
    "X_test_std = scaler.transform(X_test)"
   ]
  },
  {
   "cell_type": "code",
   "execution_count": 81,
   "metadata": {},
   "outputs": [
    {
     "name": "stdout",
     "output_type": "stream",
     "text": [
      "Predicted  3  4\n",
      "Actual         \n",
      "3          6  0\n",
      "4          0  3\n",
      "Accuracy = 1.0\n",
      "              precision    recall  f1-score   support\n",
      "\n",
      "           3       1.00      1.00      1.00         6\n",
      "           4       1.00      1.00      1.00         3\n",
      "\n",
      "    accuracy                           1.00         9\n",
      "   macro avg       1.00      1.00      1.00         9\n",
      "weighted avg       1.00      1.00      1.00         9\n",
      "\n"
     ]
    }
   ],
   "source": [
    "svc = svm.SVC(kernel='rbf', C =1)\n",
    "svc.fit(X_train_std, y_train)\n",
    "\n",
    "y_hat = svc.predict(X_test_std)\n",
    "\n",
    "# Calculate accuracy \n",
    "print(pd.crosstab(y_test, y_hat, rownames=['Actual'], colnames=['Predicted']))\n",
    "print('Accuracy =', accuracy_score(y_test, y_hat))\n",
    "\n",
    "print(classification_report (y_test, y_hat))"
   ]
  },
  {
   "cell_type": "code",
   "execution_count": 82,
   "metadata": {},
   "outputs": [
    {
     "name": "stdout",
     "output_type": "stream",
     "text": [
      "[1. 1. 1. 1. 1.]\n",
      "1.00 accuracy with a standard deviation of 0.00\n",
      "Predicted  3  4\n",
      "Actual         \n",
      "3          6  0\n",
      "4          0  3\n",
      "Accuracy = 1.0\n",
      "              precision    recall  f1-score   support\n",
      "\n",
      "           3       1.00      1.00      1.00         6\n",
      "           4       1.00      1.00      1.00         3\n",
      "\n",
      "    accuracy                           1.00         9\n",
      "   macro avg       1.00      1.00      1.00         9\n",
      "weighted avg       1.00      1.00      1.00         9\n",
      "\n"
     ]
    }
   ],
   "source": [
    "# Update the SVC model to see if we can get a better performance\n",
    "svc1 = svm.SVC(kernel='linear', C =0.05, gamma='auto')  # changed regularization, kernel = linear, C = 0.05\n",
    "svc1.fit(X_train_std, y_train)\n",
    "\n",
    "# add in cross validation\n",
    "scores1 = cross_val_score(svc1, X_test_std, y_test, cv=5)\n",
    "print(scores1)\n",
    "print(\"%0.2f accuracy with a standard deviation of %0.2f\" % (scores1.mean(), scores1.std()))\n",
    "\n",
    "y_hat1 = svc1.predict(X_test_std)\n",
    "\n",
    "# Calculate accuracy \n",
    "print(pd.crosstab(y_test, y_hat1, rownames=['Actual'], colnames=['Predicted']))\n",
    "print('Accuracy =', accuracy_score(y_test, y_hat1))\n",
    "\n",
    "print(classification_report (y_test, y_hat1))"
   ]
  },
  {
   "cell_type": "code",
   "execution_count": 83,
   "metadata": {},
   "outputs": [
    {
     "name": "stdout",
     "output_type": "stream",
     "text": [
      "Accuracy for Decision Tree model:  88.88888888888889\n",
      "Predicted  3  4\n",
      "Actual         \n",
      "3          5  1\n",
      "4          0  3\n"
     ]
    }
   ],
   "source": [
    "# Create decision tree with adaboost classifer\n",
    "from sklearn.ensemble import AdaBoostClassifier\n",
    "from sklearn.tree import DecisionTreeClassifier\n",
    "from sklearn.metrics import confusion_matrix\n",
    "\n",
    "# Create a decision tree object\n",
    "tree = DecisionTreeClassifier()\n",
    "\n",
    "# Fit on training data\n",
    "tree.fit(X_train_std, y_train)\n",
    "abc = AdaBoostClassifier(base_estimator=tree)\n",
    "\n",
    "# Train Adaboost Classifer\n",
    "model = abc.fit(X_train_std, y_train)\n",
    "\n",
    "#Predict the response with test dataset\n",
    "y_pred = model.predict(X_test_std)\n",
    "\n",
    "print(\"Accuracy for Decision Tree model: \", accuracy_score(y_test,y_pred)*100) ## Still not great\n",
    "\n",
    "# Make a Confusion Matrix\n",
    "print(pd.crosstab(y_test, y_pred, rownames=['Actual'], colnames=['Predicted']))"
   ]
  },
  {
   "cell_type": "code",
   "execution_count": 84,
   "metadata": {},
   "outputs": [
    {
     "name": "stdout",
     "output_type": "stream",
     "text": [
      "Best Accuracy =  1.0\n",
      "{'criterion': 'gini', 'max_depth': 3, 'max_features': 'auto', 'min_samples_leaf': 3, 'min_samples_split': 5, 'presort': True}\n",
      "DecisionTreeClassifier(max_depth=3, max_features='auto', min_samples_leaf=3,\n",
      "                       min_samples_split=5, presort=True)\n"
     ]
    }
   ],
   "source": [
    "# Try Gridsearch to tune the hyperparameters to see if we get better accuracy\n",
    "from sklearn.model_selection import GridSearchCV\n",
    "tree_param = {'criterion':['gini','entropy'],\n",
    "             'max_depth':[3,4,5,6,7,8,9,10,11,12,15,20],\n",
    "             'min_samples_split':[5,10,20,30,40,50,60,70,80,90,100], \n",
    "             'min_samples_leaf':[2,3,4,5,6,7,8,9,10], \n",
    "             'max_features':list(range(1,X_train_std.shape[1])), \n",
    "             'max_features': ['auto', 'sqrt', 'log2'],\n",
    "             'presort':[True, False]\n",
    "            }\n",
    "grid = GridSearchCV(DecisionTreeClassifier(), tree_param, cv=4)\n",
    "grid.fit(X_train_std, y_train)\n",
    "#best_predict = grid.best_score_(y_test)\n",
    "print('Best Accuracy = ',grid.best_score_)\n",
    "print(grid.best_params_)\n",
    "print(grid.best_estimator_)\n",
    "#print(pd.crosstab(y_test, best_predict, rownames=['Actual'], colnames=['Predicted']))"
   ]
  },
  {
   "cell_type": "code",
   "execution_count": 85,
   "metadata": {},
   "outputs": [
    {
     "name": "stdout",
     "output_type": "stream",
     "text": [
      "Accuracy: 0.8888888888888888\n"
     ]
    }
   ],
   "source": [
    "# Now use adaboost on the gridsearch results to see if we can get an even better prediction\n",
    "tree = grid.best_estimator_\n",
    "tree.fit(X_train_std, y_train)\n",
    "\n",
    "# Create adaboost classifer object\n",
    "abc1 = AdaBoostClassifier(n_estimators=100,\n",
    "                         learning_rate=5,\n",
    "                         base_estimator=tree)\n",
    "# Train Adaboost Classifer\n",
    "model3 = abc1.fit(X_train_std, y_train)\n",
    "\n",
    "# Predict the response for test dataset\n",
    "y_hat2 = model3.predict(X_test_std)\n",
    "print(\"Accuracy:\",accuracy_score(y_test, y_hat2))"
   ]
  },
  {
   "cell_type": "code",
   "execution_count": 86,
   "metadata": {},
   "outputs": [
    {
     "name": "stdout",
     "output_type": "stream",
     "text": [
      "Predicted  3  4\n",
      "Actual         \n",
      "3          5  1\n",
      "4          0  3\n",
      "Accuracy = 0.8888888888888888\n"
     ]
    }
   ],
   "source": [
    "from sklearn.ensemble import RandomForestClassifier\n",
    "from sklearn.datasets import make_classification\n",
    "classifier = RandomForestClassifier(n_estimators = 20, \n",
    "                                    criterion = 'entropy')\n",
    "classifier.fit(X_train_std, y_train)\n",
    "y_pred = classifier.predict(X_test_std)\n",
    "\n",
    "# Making the Confusion Matrix\n",
    "print(pd.crosstab(y_test, y_pred, rownames=['Actual'], colnames=['Predicted']))\n",
    "print('Accuracy =', accuracy_score(y_test, y_pred))"
   ]
  },
  {
   "cell_type": "code",
   "execution_count": 87,
   "metadata": {},
   "outputs": [
    {
     "name": "stdout",
     "output_type": "stream",
     "text": [
      "Predicted  3  4\n",
      "Actual         \n",
      "3          6  0\n",
      "4          0  3\n",
      "Accuracy = 1.0\n"
     ]
    }
   ],
   "source": [
    "model4 = LogisticRegression().fit(X_train_std, y_train)\n",
    "y_hat4 = model4.predict(X_test_std)\n",
    "\n",
    "# Making the Confusion Matrix\n",
    "print(pd.crosstab(y_test, y_hat4, rownames=['Actual'], colnames=['Predicted']))\n",
    "print('Accuracy =', accuracy_score(y_test, y_hat4))"
   ]
  },
  {
   "cell_type": "markdown",
   "metadata": {},
   "source": [
    "## References - \n",
    "\n",
    "Koh W, Pan W, Gawad C, Fan HC et al. Noninvasive in vivo monitoring of tissue-specific global gene expression in humans. Proc Natl Acad Sci U S A 2014 May 20;111(20):7361-6. PMID: 24799715\n",
    "\n",
    "Scikit-learn: Machine Learning in Python, Pedregosa et al., JMLR 12, pp. 2825-2830, 2011."
   ]
  }
 ],
 "metadata": {
  "kernelspec": {
   "display_name": "Python 3",
   "language": "python",
   "name": "python3"
  },
  "language_info": {
   "codemirror_mode": {
    "name": "ipython",
    "version": 3
   },
   "file_extension": ".py",
   "mimetype": "text/x-python",
   "name": "python",
   "nbconvert_exporter": "python",
   "pygments_lexer": "ipython3",
   "version": "3.8.5"
  }
 },
 "nbformat": 4,
 "nbformat_minor": 4
}
